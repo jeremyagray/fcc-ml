{
  "nbformat": 4,
  "nbformat_minor": 0,
  "metadata": {
    "colab": {
      "name": "SMSClassifier.ipynb",
      "provenance": [],
      "private_outputs": true,
      "collapsed_sections": []
    },
    "kernelspec": {
      "display_name": "Python 3",
      "name": "python3"
    }
  },
  "cells": [
    {
      "cell_type": "markdown",
      "metadata": {
        "id": "Eg62Pmz3o83v"
      },
      "source": [
        "*Note: You are currently reading this using Google Colaboratory which is a cloud-hosted version of Jupyter Notebook. This is a document containing both text cells for documentation and runnable code cells. If you are unfamiliar with Jupyter Notebook, watch this 3-minute introduction before starting this challenge: https://www.youtube.com/watch?v=inN8seMm7UI*\n",
        "\n",
        "---\n",
        "\n",
        "In this challenge, you need to create a machine learning model that will classify SMS messages as either \"ham\" or \"spam\". A \"ham\" message is a normal message sent by a friend. A \"spam\" message is an advertisement or a message sent by a company.\n",
        "\n",
        "You should create a function called `predict_message` that takes a message string as an argument and returns a list. The first element in the list should be a number between zero and one that indicates the likeliness of \"ham\" (0) or \"spam\" (1). The second element in the list should be the word \"ham\" or \"spam\", depending on which is most likely.\n",
        "\n",
        "For this challenge, you will use the [SMS Spam Collection dataset](http://www.dt.fee.unicamp.br/~tiago/smsspamcollection/). The dataset has already been grouped into train data and test data.\n",
        "\n",
        "The first two cells import the libraries and data. The final cell tests your model and function. Add your code in between these cells.\n"
      ]
    },
    {
      "cell_type": "code",
      "metadata": {
        "id": "8RZOuS9LWQvv"
      },
      "source": [
        "# import libraries\n",
        "import numpy as np\n",
        "# import os\n",
        "import pandas as pd\n",
        "# import shutil\n",
        "import tensorflow as tf\n",
        "# import urllib.request"
      ],
      "execution_count": null,
      "outputs": []
    },
    {
      "cell_type": "code",
      "metadata": {
        "id": "g_h508FEClxO"
      },
      "source": [
        "# Predict the message type.  Returns list containing probability and label.\n",
        "# prediction = predict_message(msg)\n",
        "# print(prediction)\n",
        "# >>> [0.008318834938108921, 'ham']\n",
        "def predict_message(model, msg):\n",
        "    prediction = model.predict(np.array([msg])).flatten()[0]\n",
        "    print('msg:  {} type:  {}'.format(msg, prediction))\n",
        "\n",
        "    if prediction > 0:\n",
        "        return [prediction, 'ham']\n",
        "    else:\n",
        "        return [prediction, 'spam']"
      ],
      "execution_count": null,
      "outputs": []
    },
    {
      "cell_type": "code",
      "metadata": {
        "id": "qQHhv7lZkwm-"
      },
      "source": [
        "def test_predictions(model):\n",
        "    test_messages = [\n",
        "        \"how are you doing today\",\n",
        "        \"sale today! to stop texts call 98912460324\",\n",
        "        \"i dont want to go. can we try it a different day? available sat\",\n",
        "        \"our new mobile video service is live. \"\n",
        "        \"just install on your phone to start watching.\",\n",
        "        \"you have won £1000 cash! call to claim your prize.\",\n",
        "        \"i'll bring it tomorrow. don't forget the milk.\",\n",
        "        \"wow, is your arm alright. that happened to me one time too\"\n",
        "    ]\n",
        "\n",
        "    test_answers = [\"ham\", \"spam\", \"ham\", \"spam\", \"spam\", \"ham\", \"ham\"]\n",
        "    passed = True\n",
        "\n",
        "    for msg, ans in zip(test_messages, test_answers):\n",
        "        prediction = predict_message(model, msg)\n",
        "        if prediction[1] != ans:\n",
        "            passed = False\n",
        "\n",
        "    if passed:\n",
        "        print(\"You passed the challenge.  Great job!\")\n",
        "    else:\n",
        "        print(\"You haven't passed yet.  Keep trying.\")"
      ],
      "execution_count": null,
      "outputs": []
    },
    {
      "cell_type": "code",
      "metadata": {
        "id": "zOMKywn4zReN"
      },
      "source": [
        "# Pandas dataframe to tensorflow.data dataset.\n",
        "# Requires whole dataframe, with features to use and target.\n",
        "# https://www.tensorflow.org/tutorials/structured_data/preprocessing_layers\n",
        "def df_to_ds(df, target, shuffle=True, batch=32):\n",
        "    features = df.copy()\n",
        "    labels = features.pop(target)\n",
        "\n",
        "    ds = tf.data.Dataset.from_tensor_slices(\n",
        "        (features['message'].values, labels.values))\n",
        "\n",
        "    if shuffle:\n",
        "        ds = ds.shuffle(buffer_size=len(features))\n",
        "\n",
        "    ds = ds.batch(batch)\n",
        "    ds = ds.prefetch(batch)\n",
        "\n",
        "    return ds"
      ],
      "execution_count": null,
      "outputs": []
    },
    {
      "cell_type": "code",
      "metadata": {
        "id": "ISKLIdGqkKJD"
      },
      "source": [
        "HAM = 1\n",
        "SPAM = 0\n",
        "\n",
        "# get data files\n",
        "!wget https://raw.githubusercontent.com/beaucarnes/fcc_python_curriculum/master/sms/train-data.tsv\n",
        "!wget https://raw.githubusercontent.com/beaucarnes/fcc_python_curriculum/master/sms/valid-data.tsv\n",
        "\n",
        "train_file = \"train-data.tsv\"\n",
        "val_file = \"valid-data.tsv\"\n",
        "\n",
        "train_d = pd.read_csv(train_file, sep='\\t', names=['label', 'message'])\n",
        "val_d = pd.read_csv(val_file, sep='\\t', names=['label', 'message'])\n",
        "\n",
        "train_d['target'] = np.where(train_d['label'] == 'ham', HAM, SPAM)\n",
        "train_d = train_d.drop(columns=['label'])\n",
        "val_d['target'] = np.where(val_d['label'] == 'ham', HAM, SPAM)\n",
        "val_d = val_d.drop(columns=['label'])\n",
        "\n",
        "TRAIN_MSGS = train_d.shape[0]\n",
        "VAL_MSGS = val_d.shape[0]\n",
        "\n",
        "# Features.\n",
        "train_f = train_d.copy()\n",
        "val_f = val_d.copy()\n",
        "\n",
        "# Labels (targets).\n",
        "train_l = train_f.pop('target')\n",
        "val_l = val_f.pop('target')\n",
        "\n",
        "BUFFER_SIZE = 10000\n",
        "BATCH_SIZE = 64\n",
        "\n",
        "train_ds = df_to_ds(train_d, 'target', shuffle=True, batch=BATCH_SIZE)\n",
        "val_ds = df_to_ds(val_d, 'target', shuffle=False, batch=BATCH_SIZE)\n",
        "\n",
        "VOCAB_SIZE = 1000\n",
        "encoder = tf.keras.layers.experimental.preprocessing.TextVectorization(\n",
        "    max_tokens=VOCAB_SIZE)\n",
        "encoder.adapt(train_ds.map(lambda text, label: text))\n",
        "\n",
        "vocab = np.array(encoder.get_vocabulary())\n",
        "\n",
        "model = tf.keras.Sequential([\n",
        "    encoder,\n",
        "    tf.keras.layers.Embedding(\n",
        "        input_dim=len(encoder.get_vocabulary()),\n",
        "        output_dim=64,\n",
        "        # Use masking to handle the variable sequence lengths\n",
        "        mask_zero=True),\n",
        "    tf.keras.layers.Bidirectional(tf.keras.layers.LSTM(64)),\n",
        "    tf.keras.layers.Dense(64, activation='relu'),\n",
        "    tf.keras.layers.Dense(1)\n",
        "])\n",
        "\n",
        "model.compile(\n",
        "    loss=tf.keras.losses.BinaryCrossentropy(from_logits=True),\n",
        "    optimizer=tf.keras.optimizers.Adam(1e-4),\n",
        "    metrics=['accuracy'],\n",
        ")\n",
        "\n",
        "history = model.fit(\n",
        "    train_ds,\n",
        "    epochs=10,\n",
        "    validation_data=val_ds,\n",
        ")\n",
        "\n",
        "val_loss, val_acc = model.evaluate(val_ds)\n",
        "\n",
        "print('Validation Loss: {}'.format(val_loss))\n",
        "print('Validation Accuracy: {}'.format(val_acc))"
      ],
      "execution_count": null,
      "outputs": []
    },
    {
      "cell_type": "code",
      "metadata": {
        "id": "HC16kBt7mcxn"
      },
      "source": [
        "test_predictions(model)"
      ],
      "execution_count": null,
      "outputs": []
    }
  ]
}