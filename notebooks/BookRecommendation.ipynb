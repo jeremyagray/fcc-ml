{
  "nbformat": 4,
  "nbformat_minor": 0,
  "metadata": {
    "kernelspec": {
      "display_name": "Python 3",
      "language": "python",
      "name": "python3"
    },
    "language_info": {
      "codemirror_mode": {
        "name": "ipython",
        "version": 3
      },
      "file_extension": ".py",
      "mimetype": "text/x-python",
      "name": "python",
      "nbconvert_exporter": "python",
      "pygments_lexer": "ipython3",
      "version": "3.6.5"
    },
    "colab": {
      "name": "BookRecommendation.ipynb",
      "provenance": [],
      "collapsed_sections": []
    }
  },
  "cells": [
    {
      "cell_type": "markdown",
      "metadata": {
        "id": "uGd4NYQX1Rf_"
      },
      "source": [
        "*Note: You are currently reading this using Google Colaboratory which is a cloud-hosted version of Jupyter Notebook. This is a document containing both text cells for documentation and runnable code cells. If you are unfamiliar with Jupyter Notebook, watch this 3-minute introduction before starting this challenge: https://www.youtube.com/watch?v=inN8seMm7UI*\n",
        "\n",
        "---\n",
        "\n",
        "In this challenge, you will create a book recommendation algorithm using **K-Nearest Neighbors**.\n",
        "\n",
        "You will use the [Book-Crossings dataset](http://www2.informatik.uni-freiburg.de/~cziegler/BX/). This dataset contains 1.1 million ratings (scale of 1-10) of 270,000 books by 90,000 users. \n",
        "\n",
        "After importing and cleaning the data, use `NearestNeighbors` from `sklearn.neighbors` to develop a model that shows books that are similar to a given book. The Nearest Neighbors algorithm measures distance to determine the “closeness” of instances.\n",
        "\n",
        "Create a function named `get_recommends` that takes a book title (from the dataset) as an argument and returns a list of 5 similar books with their distances from the book argument.\n",
        "\n",
        "This code:\n",
        "\n",
        "`get_recommends(\"The Queen of the Damned (Vampire Chronicles (Paperback))\")`\n",
        "\n",
        "should return:\n",
        "\n",
        "```\n",
        "[\n",
        "  'The Queen of the Damned (Vampire Chronicles (Paperback))',\n",
        "  [\n",
        "    ['Catch 22', 0.793983519077301], \n",
        "    ['The Witching Hour (Lives of the Mayfair Witches)', 0.7448656558990479], \n",
        "    ['Interview with the Vampire', 0.7345068454742432],\n",
        "    ['The Tale of the Body Thief (Vampire Chronicles (Paperback))', 0.5376338362693787],\n",
        "    ['The Vampire Lestat (Vampire Chronicles, Book II)', 0.5178412199020386]\n",
        "  ]\n",
        "]\n",
        "```\n",
        "\n",
        "Notice that the data returned from `get_recommends()` is a list. The first element in the list is the book title passed in to the function. The second element in the list is a list of five more lists. Each of the five lists contains a recommended book and the distance from the recommended book to the book passed in to the function.\n",
        "\n",
        "If you graph the dataset (optional), you will notice that most books are not rated frequently. To ensure statistical significance, remove from the dataset users with less than 200 ratings and books with less than 100 ratings.\n",
        "\n",
        "The first three cells import libraries you may need and the data to use. The final cell is for testing. Write all your code in between those cells."
      ]
    },
    {
      "cell_type": "code",
      "metadata": {
        "id": "Y1onB6kUvo4Z"
      },
      "source": [
        "# import libraries (you may add additional imports but you may not have to)\n",
        "import numpy as np\n",
        "import pandas as pd\n",
        "from scipy.sparse import csr_matrix\n",
        "from sklearn.neighbors import NearestNeighbors\n",
        "import matplotlib.pyplot as plt"
      ],
      "execution_count": 1,
      "outputs": []
    },
    {
      "cell_type": "code",
      "metadata": {
        "id": "iAQGqqO_vo4d",
        "outputId": "e19fe9a3-d5d9-45d9-a210-ab654862a93c",
        "colab": {
          "base_uri": "https://localhost:8080/"
        }
      },
      "source": [
        "# get data files\n",
        "!wget https://cdn.freecodecamp.org/project-data/books/book-crossings.zip\n",
        "\n",
        "!unzip book-crossings.zip\n",
        "\n",
        "books_filename = 'BX-Books.csv'\n",
        "ratings_filename = 'BX-Book-Ratings.csv'"
      ],
      "execution_count": 2,
      "outputs": [
        {
          "output_type": "stream",
          "text": [
            "--2020-11-11 19:00:37--  https://cdn.freecodecamp.org/project-data/books/book-crossings.zip\n",
            "Resolving cdn.freecodecamp.org (cdn.freecodecamp.org)... 104.26.2.33, 104.26.3.33, 172.67.70.149, ...\n",
            "Connecting to cdn.freecodecamp.org (cdn.freecodecamp.org)|104.26.2.33|:443... connected.\n",
            "HTTP request sent, awaiting response... 200 OK\n",
            "Length: unspecified [application/zip]\n",
            "Saving to: ‘book-crossings.zip’\n",
            "\n",
            "book-crossings.zip      [              <=>   ]  24.88M   608KB/s    in 44s     \n",
            "\n",
            "2020-11-11 19:01:21 (583 KB/s) - ‘book-crossings.zip’ saved [26085508]\n",
            "\n",
            "Archive:  book-crossings.zip\n",
            "  inflating: BX-Book-Ratings.csv     \n",
            "  inflating: BX-Books.csv            \n",
            "  inflating: BX-Users.csv            \n"
          ],
          "name": "stdout"
        }
      ]
    },
    {
      "cell_type": "code",
      "metadata": {
        "id": "NClILWOiEd6Q"
      },
      "source": [
        "# import csv data into dataframes\n",
        "df_books = pd.read_csv(\n",
        "    books_filename,\n",
        "    encoding = \"ISO-8859-1\",\n",
        "    sep=\";\",\n",
        "    header=0,\n",
        "    names=['isbn', 'title', 'author'],\n",
        "    usecols=['isbn', 'title', 'author'],\n",
        "    dtype={'isbn': 'str', 'title': 'str', 'author': 'str'})\n",
        "\n",
        "df_ratings = pd.read_csv(\n",
        "    ratings_filename,\n",
        "    encoding = \"ISO-8859-1\",\n",
        "    sep=\";\",\n",
        "    header=0,\n",
        "    names=['user', 'isbn', 'rating'],\n",
        "    usecols=['user', 'isbn', 'rating'],\n",
        "    dtype={'user': 'int32', 'isbn': 'str', 'rating': 'float32'})"
      ],
      "execution_count": 3,
      "outputs": []
    },
    {
      "cell_type": "code",
      "metadata": {
        "id": "xAcXjkCFCh0A"
      },
      "source": [
        "# add your code here - consider creating a new cell for each section of code"
      ],
      "execution_count": 4,
      "outputs": []
    },
    {
      "cell_type": "code",
      "metadata": {
        "id": "f5ZUd-L1SQz7"
      },
      "source": [
        "# This solution follows discussion at:\n",
        "# https://forum.freecodecamp.org/t/book-recommendation-knn-system/412976/9\n",
        "# https://datascienceplus.com/building-a-book-recommender-system-the-basics-knn-and-matrix-factorization/\n",
        "def get_recommends(book=\"\"):\n",
        "    # Load the data.\n",
        "    # books, ratings = load_data()\n",
        "    books = df_books\n",
        "    ratings = df_ratings\n",
        "\n",
        "    # Count the ratings per book and ratings per user for cleaning.\n",
        "    ratings_per_book = ratings['isbn'].value_counts()\n",
        "    ratings_per_user = ratings['user'].value_counts()\n",
        "\n",
        "    # Filter out users with less than 200 ratings and books with less\n",
        "    # than 100 ratings.\n",
        "    cleaned_ratings = ratings[\n",
        "        (ratings['isbn']\n",
        "         .isin(ratings_per_book[ratings_per_book >= 100].index))\n",
        "        & (ratings['user']\n",
        "           .isin(ratings_per_user[ratings_per_user >= 200].index))]\n",
        "\n",
        "    # Merge the book data with the cleaned rating data, drop duplicate\n",
        "    # titles (with different ISBNs), convert to a pivot table, and\n",
        "    # then convert to CSR sparse matrix.\n",
        "    combined = pd.merge(left=cleaned_ratings, right=books, on='isbn')\n",
        "    combined = combined.drop_duplicates(['title', 'user'])\n",
        "    combined_pivot = combined.pivot(index='title',\n",
        "                                    columns='user',\n",
        "                                    values='rating').fillna(0)\n",
        "    combined_csr = csr_matrix(combined_pivot)\n",
        "\n",
        "    # Set up a basic k nearest neighbors model and fit with the sparse\n",
        "    # matrix.\n",
        "    knn = NearestNeighbors(metric='cosine', algorithm='brute')\n",
        "    knn.fit(combined_csr)\n",
        "\n",
        "    # Get the location of the provided book title.\n",
        "    query = combined_pivot.loc[book]\n",
        "\n",
        "    # Calculate the k nearest neighbors.  Use n=6 to get the top five\n",
        "    # recommendations as the method returns the query as well.  The\n",
        "    # query argument should be a 1D numpy array.\n",
        "    distances, indices = knn.kneighbors(\n",
        "        query.to_numpy().reshape(1, -1), n_neighbors=6)\n",
        "\n",
        "    # Flatten the indices and distances.\n",
        "    indices = indices.flatten()\n",
        "    distances = distances.flatten()\n",
        "\n",
        "    recommended_books = []\n",
        "    recommendations = []\n",
        "\n",
        "    # Build the return array.\n",
        "    for (i, index) in enumerate(indices):\n",
        "        if i == 0:\n",
        "            recommended_books.append(combined_pivot.index[index])\n",
        "        else:\n",
        "            recommendations.append([combined_pivot.index[index], distances[i]])\n",
        "\n",
        "    recommended_books.append(recommendations)\n",
        "\n",
        "    return recommended_books"
      ],
      "execution_count": 5,
      "outputs": []
    },
    {
      "cell_type": "markdown",
      "metadata": {
        "id": "eat9A2TKawHU"
      },
      "source": [
        "Use the cell below to test your function. The `test_book_recommendation()` function will inform you if you passed the challenge or need to keep trying."
      ]
    },
    {
      "cell_type": "code",
      "metadata": {
        "id": "jd2SLCh8oxMh",
        "outputId": "c007fe26-abab-4543-ab41-6f71b659b6da",
        "colab": {
          "base_uri": "https://localhost:8080/"
        }
      },
      "source": [
        "books = get_recommends(\"Where the Heart Is (Oprah's Book Club (Paperback))\")\n",
        "print(books)\n",
        "\n",
        "# Test errors as documented at:\n",
        "# https://forum.freecodecamp.org/t/book-recommendation-knn-system/412976\n",
        "def test_book_recommendation():\n",
        "    test_pass = True\n",
        "    recommends = get_recommends(\"Where the Heart Is \"\n",
        "                                \"(Oprah's Book Club (Paperback))\")\n",
        "\n",
        "    # Fail if queried book is not returned first.\n",
        "    if recommends[0] != \"Where the Heart Is (Oprah's Book Club (Paperback))\":\n",
        "        test_pass = False\n",
        "\n",
        "    # Actual recommendation format.\n",
        "    # [\n",
        "    #     \"Where the Heart Is (Oprah's Book Club (Paperback))\",\n",
        "    #     [\n",
        "    #         ['The Lovely Bones: A Novel', 0.7234864],\n",
        "    #         ['I Know This Much Is True', 0.7677075],\n",
        "    #         ['The Surgeon', 0.7699411],\n",
        "    #         ['The Weight of Water', 0.77085835],\n",
        "    #         [\"I'll Be Seeing You\", 0.8016211]\n",
        "    #     ]\n",
        "    # ]\n",
        "\n",
        "    # Old, reversed, and incomplete version.\n",
        "    # recommended_books = [\n",
        "    #     \"I'll Be Seeing You\",\n",
        "    #     'The Weight of Water',\n",
        "    #     'The Surgeon',\n",
        "    #     'I Know This Much Is True'\n",
        "    # ]\n",
        "\n",
        "    # Correct version.\n",
        "    recommended_books = [\n",
        "        'The Lovely Bones: A Novel',\n",
        "        'I Know This Much Is True',\n",
        "        'The Surgeon',\n",
        "        'The Weight of Water',\n",
        "        \"I'll Be Seeing You\",\n",
        "    ]\n",
        "\n",
        "    # Old, reversed, and incomplete version.\n",
        "    # recommended_books_dist = [0.8, 0.77, 0.77, 0.77]\n",
        "    # Correct version.\n",
        "    recommended_books_dist = [0.72, 0.77, 0.77, 0.77, 0.80]\n",
        "\n",
        "    for i in range(2):\n",
        "        if recommends[1][i][0] not in recommended_books:\n",
        "            test_pass = False\n",
        "        if abs(recommends[1][i][1] - recommended_books_dist[i]) >= 0.05:\n",
        "            test_pass = False\n",
        "\n",
        "    if test_pass:\n",
        "        print(\"You passed the challenge!\")\n",
        "    else:\n",
        "        print(\"You haven't passed yet. Keep trying!\")\n",
        "\n",
        "    return\n",
        "\n",
        "# def test_book_recommendation():\n",
        "#   test_pass = True\n",
        "#   recommends = get_recommends(\"Where the Heart Is (Oprah's Book Club (Paperback))\")\n",
        "#   if recommends[0] != \"Where the Heart Is (Oprah's Book Club (Paperback))\":\n",
        "#     test_pass = False\n",
        "#   recommended_books = [\"I'll Be Seeing You\", 'The Weight of Water', 'The Surgeon', 'I Know This Much Is True']\n",
        "#   recommended_books_dist = [0.8, 0.77, 0.77, 0.77]\n",
        "#   for i in range(2): \n",
        "#     if recommends[1][i][0] not in recommended_books:\n",
        "#       test_pass = False\n",
        "#     if abs(recommends[1][i][1] - recommended_books_dist[i]) >= 0.05:\n",
        "#       test_pass = False\n",
        "#   if test_pass:\n",
        "#     print(\"You passed the challenge!\")\n",
        "#   else:\n",
        "#     print(\"You havn't passed yet. Keep trying!\")\n",
        "\n",
        "test_book_recommendation()"
      ],
      "execution_count": 6,
      "outputs": [
        {
          "output_type": "stream",
          "text": [
            "[\"Where the Heart Is (Oprah's Book Club (Paperback))\", [['The Lovely Bones: A Novel', 0.7234864], ['I Know This Much Is True', 0.7677075], ['The Surgeon', 0.7699411], ['The Weight of Water', 0.77085835], [\"I'll Be Seeing You\", 0.8016211]]]\n",
            "You passed the challenge!\n"
          ],
          "name": "stdout"
        }
      ]
    }
  ]
}